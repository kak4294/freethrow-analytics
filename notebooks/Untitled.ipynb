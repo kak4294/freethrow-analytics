{
 "cells": [
  {
   "cell_type": "code",
   "execution_count": 1,
   "id": "dc933d57-0514-480b-b006-236936543e99",
   "metadata": {},
   "outputs": [
    {
     "ename": "ImportError",
     "evalue": "cannot import name 'endpoint_analysis' from 'tools.stats' (/Users/kylekrebs/Documents/Projects/FreeThrow-Analytics/freethrow_env/lib/python3.13/site-packages/tools/stats/__init__.py)",
     "output_type": "error",
     "traceback": [
      "\u001b[31m---------------------------------------------------------------------------\u001b[39m",
      "\u001b[31mImportError\u001b[39m                               Traceback (most recent call last)",
      "\u001b[36mCell\u001b[39m\u001b[36m \u001b[39m\u001b[32mIn[1]\u001b[39m\u001b[32m, line 7\u001b[39m\n\u001b[32m      5\u001b[39m \u001b[38;5;28;01mimport\u001b[39;00m\u001b[38;5;250m \u001b[39m\u001b[34;01mrequests\u001b[39;00m\n\u001b[32m      6\u001b[39m \u001b[38;5;28;01mimport\u001b[39;00m\u001b[38;5;250m \u001b[39m\u001b[34;01mnba_api\u001b[39;00m\n\u001b[32m----> \u001b[39m\u001b[32m7\u001b[39m \u001b[38;5;28;01mfrom\u001b[39;00m\u001b[38;5;250m \u001b[39m\u001b[34;01mtools\u001b[39;00m\u001b[34;01m.\u001b[39;00m\u001b[34;01mstats\u001b[39;00m\u001b[38;5;250m \u001b[39m\u001b[38;5;28;01mimport\u001b[39;00m endpoint_analysis, endpoint_py_file_generator, endpoint_documentation_generator, parameter_documentation_generator\n\u001b[32m      8\u001b[39m \u001b[38;5;28;01mimport\u001b[39;00m\u001b[38;5;250m \u001b[39m\u001b[34;01mscipy\u001b[39;00m\n",
      "\u001b[31mImportError\u001b[39m: cannot import name 'endpoint_analysis' from 'tools.stats' (/Users/kylekrebs/Documents/Projects/FreeThrow-Analytics/freethrow_env/lib/python3.13/site-packages/tools/stats/__init__.py)"
     ]
    }
   ],
   "source": [
    "import pandas as pd\n",
    "pd.set_option('display.max_columns', None)\n",
    "import numpy as np\n",
    "import time\n",
    "import requests\n",
    "import nba_api\n",
    "from tools.stats import endpoint_analysis, endpoint_py_file_generator, endpoint_documentation_generator, parameter_documentation_generator\n",
    "import scipy"
   ]
  },
  {
   "cell_type": "code",
   "execution_count": 2,
   "id": "4bb6c88a-3196-4ce2-986d-cfe19e7c300c",
   "metadata": {},
   "outputs": [
    {
     "ename": "ModuleNotFoundError",
     "evalue": "No module named 'tools.stats.endpoint_analysis'",
     "output_type": "error",
     "traceback": [
      "\u001b[31m---------------------------------------------------------------------------\u001b[39m",
      "\u001b[31mModuleNotFoundError\u001b[39m                       Traceback (most recent call last)",
      "\u001b[36mCell\u001b[39m\u001b[36m \u001b[39m\u001b[32mIn[2]\u001b[39m\u001b[32m, line 1\u001b[39m\n\u001b[32m----> \u001b[39m\u001b[32m1\u001b[39m \u001b[38;5;28;01mfrom\u001b[39;00m\u001b[38;5;250m \u001b[39m\u001b[34;01mtools\u001b[39;00m\u001b[34;01m.\u001b[39;00m\u001b[34;01mstats\u001b[39;00m\u001b[34;01m.\u001b[39;00m\u001b[34;01mendpoint_analysis\u001b[39;00m\u001b[38;5;250m \u001b[39m\u001b[38;5;28;01mimport\u001b[39;00m analysis \u001b[38;5;28;01mas\u001b[39;00m endpoint_analysis\n\u001b[32m      2\u001b[39m \u001b[38;5;28;01mfrom\u001b[39;00m\u001b[38;5;250m \u001b[39m\u001b[34;01mtools\u001b[39;00m\u001b[34;01m.\u001b[39;00m\u001b[34;01mstats\u001b[39;00m\u001b[34;01m.\u001b[39;00m\u001b[34;01mendpoint_py_file_generator\u001b[39;00m\u001b[38;5;250m \u001b[39m\u001b[38;5;28;01mimport\u001b[39;00m generator \u001b[38;5;28;01mas\u001b[39;00m py_file_generator\n\u001b[32m      3\u001b[39m \u001b[38;5;28;01mfrom\u001b[39;00m\u001b[38;5;250m \u001b[39m\u001b[34;01mtools\u001b[39;00m\u001b[34;01m.\u001b[39;00m\u001b[34;01mstats\u001b[39;00m\u001b[34;01m.\u001b[39;00m\u001b[34;01mendpoint_documentation_generator\u001b[39;00m\u001b[38;5;250m \u001b[39m\u001b[38;5;28;01mimport\u001b[39;00m (\n\u001b[32m      4\u001b[39m     generator \u001b[38;5;28;01mas\u001b[39;00m endpoint_documentation_generator,\n\u001b[32m      5\u001b[39m )\n",
      "\u001b[31mModuleNotFoundError\u001b[39m: No module named 'tools.stats.endpoint_analysis'"
     ]
    }
   ],
   "source": [
    "from tools.stats.endpoint_analysis import analysis as endpoint_analysis\n",
    "from tools.stats.endpoint_py_file_generator import generator as py_file_generator\n",
    "from tools.stats.endpoint_documentation_generator import (\n",
    "    generator as endpoint_documentation_generator,\n",
    ")\n",
    "from tools.stats.parameter_documentation_generator import (\n",
    "    generator as parameter_documentation_generator,\n",
    ")\n",
    "\n",
    "# Analyze Endpoints\n",
    "\n",
    "endpoint_analysis.analyze_all_endpoints_with_threading()\n",
    "endpoint_analysis.analyze_and_save_all_endpoints(pause=0)\n",
    "\n",
    "# Generate Endpoint Py Files\n",
    "\n",
    "py_file_generator.generate_endpoint_files()\n",
    "\n",
    "# Generate Endpoint Documentation\n",
    "\n",
    "endpoint_documentation_generator.generate_all_endpoint_documentation()\n",
    "\n",
    "# Generate Parameter Documentation\n",
    "\n",
    "parameter_documentation_generator.generate_parameter_documentation_file()"
   ]
  },
  {
   "cell_type": "code",
   "execution_count": null,
   "id": "2a6912f5-b0a5-411f-8130-814d39155d6e",
   "metadata": {},
   "outputs": [],
   "source": []
  },
  {
   "cell_type": "code",
   "execution_count": null,
   "id": "a1d2809b-3b7f-45f5-8a30-eceb84941399",
   "metadata": {},
   "outputs": [],
   "source": []
  }
 ],
 "metadata": {
  "kernelspec": {
   "display_name": "Python 3 (ipykernel)",
   "language": "python",
   "name": "python3"
  },
  "language_info": {
   "codemirror_mode": {
    "name": "ipython",
    "version": 3
   },
   "file_extension": ".py",
   "mimetype": "text/x-python",
   "name": "python",
   "nbconvert_exporter": "python",
   "pygments_lexer": "ipython3",
   "version": "3.13.3"
  }
 },
 "nbformat": 4,
 "nbformat_minor": 5
}
